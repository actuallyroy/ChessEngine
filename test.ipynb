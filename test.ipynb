{
 "cells": [
  {
   "cell_type": "code",
   "execution_count": 1,
   "metadata": {},
   "outputs": [
    {
     "name": "stdout",
     "output_type": "stream",
     "text": [
      "{'g3', 'd6', 'h3', 'f3', 'c6', 'g6', 'e3', 'a6', 'c3', 'b6', 'b3', 'f6', 'a3', 'd3', 'h6', 'e6'}\n"
     ]
    }
   ],
   "source": [
    "from chessPlayer import ChessPlayer\n",
    "player = ChessPlayer()"
   ]
  },
  {
   "cell_type": "code",
   "execution_count": 2,
   "metadata": {},
   "outputs": [
    {
     "name": "stdout",
     "output_type": "stream",
     "text": [
      "r | n | b | q | k | b | n | r\n",
      "-------------------------------\n",
      "p | p | p | p | p | p | p | p\n",
      "-------------------------------\n",
      "  |   |   |   |   |   |   |  \n",
      "-------------------------------\n",
      "  |   |   |   |   |   |   |  \n",
      "-------------------------------\n",
      "  |   |   |   |   |   |   |  \n",
      "-------------------------------\n",
      "  |   |   |   |   |   |   |  \n",
      "-------------------------------\n",
      "P | P | P | P | P | P | P | P\n",
      "-------------------------------\n",
      "R | N | B | Q | K | B | N | R\n",
      "-------------------------------\n"
     ]
    }
   ],
   "source": [
    "\n",
    "player.board.print()"
   ]
  },
  {
   "cell_type": "code",
   "execution_count": 6,
   "metadata": {},
   "outputs": [
    {
     "name": "stdout",
     "output_type": "stream",
     "text": [
      "g1f3\n",
      "r | n | b | q | k | b | n | r\n",
      "-------------------------------\n",
      "p | p | p |   | p | p | p | p\n",
      "-------------------------------\n",
      "  |   |   |   |   |   |   |  \n",
      "-------------------------------\n",
      "  |   |   | p |   |   |   |  \n",
      "-------------------------------\n",
      "  |   |   |   |   |   |   |  \n",
      "-------------------------------\n",
      "  |   | N |   |   | N |   |  \n",
      "-------------------------------\n",
      "P | P | P | P | P | P | P | P\n",
      "-------------------------------\n",
      "R |   | B | Q | K | B |   | R\n",
      "-------------------------------\n"
     ]
    }
   ],
   "source": [
    "move = list(player.calcBestMove().keys())[0]\n",
    "player.board.move(move)\n",
    "print(move)\n",
    "player.board.print()"
   ]
  },
  {
   "cell_type": "code",
   "execution_count": 7,
   "metadata": {},
   "outputs": [
    {
     "name": "stdout",
     "output_type": "stream",
     "text": [
      "r | n | b | q | k | b | n | r\n",
      "-------------------------------\n",
      "p | p | p |   | p | p | p | p\n",
      "-------------------------------\n",
      "  |   |   |   |   |   |   |  \n",
      "-------------------------------\n",
      "  |   |   |   |   |   |   |  \n",
      "-------------------------------\n",
      "  |   |   | p |   |   |   |  \n",
      "-------------------------------\n",
      "  |   | N |   |   | N |   |  \n",
      "-------------------------------\n",
      "P | P | P | P | P | P | P | P\n",
      "-------------------------------\n",
      "R |   | B | Q | K | B |   | R\n",
      "-------------------------------\n"
     ]
    }
   ],
   "source": [
    "player.board.move(\"d5d4\")\n",
    "player.board.print()"
   ]
  },
  {
   "cell_type": "code",
   "execution_count": 10,
   "metadata": {},
   "outputs": [
    {
     "data": {
      "text/plain": [
       "{'a3',\n",
       " 'a4',\n",
       " 'a6',\n",
       " 'b1',\n",
       " 'b3',\n",
       " 'b5',\n",
       " 'b6',\n",
       " 'c3',\n",
       " 'c6',\n",
       " 'd3',\n",
       " 'd4',\n",
       " 'd5',\n",
       " 'd6',\n",
       " 'd7',\n",
       " 'e3',\n",
       " 'e4',\n",
       " 'e5',\n",
       " 'e6',\n",
       " 'f5',\n",
       " 'f6',\n",
       " 'g1',\n",
       " 'g3',\n",
       " 'g4',\n",
       " 'g5',\n",
       " 'g6',\n",
       " 'h3',\n",
       " 'h4',\n",
       " 'h6'}"
      ]
     },
     "execution_count": 10,
     "metadata": {},
     "output_type": "execute_result"
    }
   ],
   "source": [
    "player.calcAllPossibleAttacks()"
   ]
  }
 ],
 "metadata": {
  "kernelspec": {
   "display_name": "Python 3",
   "language": "python",
   "name": "python3"
  },
  "language_info": {
   "codemirror_mode": {
    "name": "ipython",
    "version": 3
   },
   "file_extension": ".py",
   "mimetype": "text/x-python",
   "name": "python",
   "nbconvert_exporter": "python",
   "pygments_lexer": "ipython3",
   "version": "3.11.3"
  }
 },
 "nbformat": 4,
 "nbformat_minor": 2
}
